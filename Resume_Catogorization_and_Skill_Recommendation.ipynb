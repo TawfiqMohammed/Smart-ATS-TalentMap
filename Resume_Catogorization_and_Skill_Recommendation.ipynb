{
  "cells": [
    {
      "cell_type": "markdown",
      "id": "dee7c0cd",
      "metadata": {
        "id": "dee7c0cd"
      },
      "source": [
        "# Load Tools"
      ]
    },
    {
      "cell_type": "code",
      "execution_count": null,
      "id": "dd4001d1",
      "metadata": {
        "id": "dd4001d1"
      },
      "outputs": [],
      "source": [
        "import numpy as np\n",
        "import pandas as pd\n",
        "import matplotlib.pyplot as plt\n",
        "import seaborn as sns\n",
        "from sklearn.model_selection import train_test_split\n",
        "from sklearn.feature_extraction.text import TfidfVectorizer\n",
        "from sklearn.ensemble import RandomForestClassifier\n",
        "from sklearn.metrics import accuracy_score, confusion_matrix\n",
        "import matplotlib.pyplot as plt\n",
        "import seaborn as sns\n",
        "import os\n",
        "import docx\n",
        "import PyPDF2\n",
        "import spacy"
      ]
    },
    {
      "cell_type": "code",
      "source": [
        "nlp = spacy.load(\"en_core_web_sm\")"
      ],
      "metadata": {
        "id": "eptcokjSXANU"
      },
      "id": "eptcokjSXANU",
      "execution_count": null,
      "outputs": []
    },
    {
      "cell_type": "markdown",
      "source": [
        "# Extracting the Content from the Resume"
      ],
      "metadata": {
        "id": "kGh_kKqyT6uE"
      },
      "id": "kGh_kKqyT6uE"
    },
    {
      "cell_type": "code",
      "source": [
        "def extract_text_from_docx(docx_file):\n",
        "    doc = docx.Document(docx_file)\n",
        "    return '\\n'.join([para.text for para in doc.paragraphs])\n",
        "\n",
        "def extract_text_from_pdf(pdf_file):\n",
        "    pdf_reader = PyPDF2.PdfReader(pdf_file)\n",
        "    text = ''\n",
        "    for page_num in range(len(pdf_reader.pages)):\n",
        "        text += pdf_reader.pages[page_num].extract_text()\n",
        "    return text\n",
        "\n",
        "def extract_resume_info(text):\n",
        "    id_pattern = r\"\\bID[:\\s]*(\\d+)\\b\"\n",
        "    applicant_id = re.search(id_pattern, text)\n",
        "    applicant_id = applicant_id.group(1) if applicant_id else \"ID not found\"\n",
        "\n",
        "    job_category_pattern = r\"\\b(Job Category|Position|Title)[:\\s]*([\\w\\s]+)\\b\"\n",
        "    job_category = re.search(job_category_pattern, text)\n",
        "    job_category = job_category.group(2).strip() if job_category else \"Job category not found\"\n",
        "\n",
        "    doc = nlp(text)\n",
        "    features = {\n",
        "        \"Skills\": [],\n",
        "        \"Education\": [],\n",
        "        \"Experience\": []\n",
        "    }\n",
        "\n",
        "    for ent in doc.ents:\n",
        "        if ent.label_ == \"SKILL\":\n",
        "            features[\"Skills\"].append(ent.text)\n",
        "        elif ent.label_ in [\"EDUCATION\", \"DEGREE\"]:\n",
        "            features[\"Education\"].append(ent.text)\n",
        "        elif ent.label_ in [\"WORK_EXPERIENCE\", \"DATE\", \"DURATION\"]:\n",
        "            features[\"Experience\"].append(ent.text)\n",
        "\n",
        "    return applicant_id, job_category, features\n",
        "\n",
        "def extract_resume_keywords(file_path):\n",
        "    file_extension = os.path.splitext(file_path)[1].lower()\n",
        "\n",
        "    if file_extension == '.docx':\n",
        "        text = extract_text_from_docx(file_path)\n",
        "    elif file_extension == '.pdf':\n",
        "        text = extract_text_from_pdf(file_path)\n",
        "    else:\n",
        "        raise ValueError(\"Unsupported file format. Please use DOCX or PDF.\")\n",
        "\n",
        "    keywords = extract_resume_info(text)\n",
        "    return keywords\n"
      ],
      "metadata": {
        "id": "YBMksN5iT6Dh"
      },
      "id": "YBMksN5iT6Dh",
      "execution_count": null,
      "outputs": []
    },
    {
      "cell_type": "code",
      "source": [
        "clean_df = pd.read_csv(\"clean_resume_data.csv\")"
      ],
      "metadata": {
        "id": "sTQT_vVHYmjJ"
      },
      "id": "sTQT_vVHYmjJ",
      "execution_count": null,
      "outputs": []
    },
    {
      "cell_type": "markdown",
      "id": "7db42768",
      "metadata": {
        "id": "7db42768"
      },
      "source": [
        "# Export the Clean Dataset"
      ]
    },
    {
      "cell_type": "code",
      "source": [
        "clean_df"
      ],
      "metadata": {
        "colab": {
          "base_uri": "https://localhost:8080/",
          "height": 423
        },
        "id": "jZIFpqwGVbLI",
        "outputId": "76a8016d-7988-4a02-b25d-6b1ea4c9cc53"
      },
      "id": "jZIFpqwGVbLI",
      "execution_count": null,
      "outputs": [
        {
          "output_type": "execute_result",
          "data": {
            "text/plain": [
              "            ID  Category                                            Feature\n",
              "0     16852973        HR  hr administrator marketing associate hr admini...\n",
              "1     22323967        HR  hr specialist hr operations summary media prof...\n",
              "2     33176873        HR  hr director summary years experience recruitin...\n",
              "3     27018550        HR  hr specialist summary dedicated driven dynamic...\n",
              "4     17812897        HR  hr manager skill highlights hr skills hr depar...\n",
              "...        ...       ...                                                ...\n",
              "2479  99416532  AVIATION  rank sgt e non commissioned officer charge bri...\n",
              "2480  24589765  AVIATION  government relations communications organizati...\n",
              "2481  31605080  AVIATION  geek squad agent professional profile support ...\n",
              "2482  21190805  AVIATION  program director office manager summary highly...\n",
              "2483  37473139  AVIATION  storekeeper ii professional summary purpose do...\n",
              "\n",
              "[2484 rows x 3 columns]"
            ],
            "text/html": [
              "\n",
              "  <div id=\"df-092e7578-da29-43bb-9781-6a49ec9867b0\" class=\"colab-df-container\">\n",
              "    <div>\n",
              "<style scoped>\n",
              "    .dataframe tbody tr th:only-of-type {\n",
              "        vertical-align: middle;\n",
              "    }\n",
              "\n",
              "    .dataframe tbody tr th {\n",
              "        vertical-align: top;\n",
              "    }\n",
              "\n",
              "    .dataframe thead th {\n",
              "        text-align: right;\n",
              "    }\n",
              "</style>\n",
              "<table border=\"1\" class=\"dataframe\">\n",
              "  <thead>\n",
              "    <tr style=\"text-align: right;\">\n",
              "      <th></th>\n",
              "      <th>ID</th>\n",
              "      <th>Category</th>\n",
              "      <th>Feature</th>\n",
              "    </tr>\n",
              "  </thead>\n",
              "  <tbody>\n",
              "    <tr>\n",
              "      <th>0</th>\n",
              "      <td>16852973</td>\n",
              "      <td>HR</td>\n",
              "      <td>hr administrator marketing associate hr admini...</td>\n",
              "    </tr>\n",
              "    <tr>\n",
              "      <th>1</th>\n",
              "      <td>22323967</td>\n",
              "      <td>HR</td>\n",
              "      <td>hr specialist hr operations summary media prof...</td>\n",
              "    </tr>\n",
              "    <tr>\n",
              "      <th>2</th>\n",
              "      <td>33176873</td>\n",
              "      <td>HR</td>\n",
              "      <td>hr director summary years experience recruitin...</td>\n",
              "    </tr>\n",
              "    <tr>\n",
              "      <th>3</th>\n",
              "      <td>27018550</td>\n",
              "      <td>HR</td>\n",
              "      <td>hr specialist summary dedicated driven dynamic...</td>\n",
              "    </tr>\n",
              "    <tr>\n",
              "      <th>4</th>\n",
              "      <td>17812897</td>\n",
              "      <td>HR</td>\n",
              "      <td>hr manager skill highlights hr skills hr depar...</td>\n",
              "    </tr>\n",
              "    <tr>\n",
              "      <th>...</th>\n",
              "      <td>...</td>\n",
              "      <td>...</td>\n",
              "      <td>...</td>\n",
              "    </tr>\n",
              "    <tr>\n",
              "      <th>2479</th>\n",
              "      <td>99416532</td>\n",
              "      <td>AVIATION</td>\n",
              "      <td>rank sgt e non commissioned officer charge bri...</td>\n",
              "    </tr>\n",
              "    <tr>\n",
              "      <th>2480</th>\n",
              "      <td>24589765</td>\n",
              "      <td>AVIATION</td>\n",
              "      <td>government relations communications organizati...</td>\n",
              "    </tr>\n",
              "    <tr>\n",
              "      <th>2481</th>\n",
              "      <td>31605080</td>\n",
              "      <td>AVIATION</td>\n",
              "      <td>geek squad agent professional profile support ...</td>\n",
              "    </tr>\n",
              "    <tr>\n",
              "      <th>2482</th>\n",
              "      <td>21190805</td>\n",
              "      <td>AVIATION</td>\n",
              "      <td>program director office manager summary highly...</td>\n",
              "    </tr>\n",
              "    <tr>\n",
              "      <th>2483</th>\n",
              "      <td>37473139</td>\n",
              "      <td>AVIATION</td>\n",
              "      <td>storekeeper ii professional summary purpose do...</td>\n",
              "    </tr>\n",
              "  </tbody>\n",
              "</table>\n",
              "<p>2484 rows × 3 columns</p>\n",
              "</div>\n",
              "    <div class=\"colab-df-buttons\">\n",
              "\n",
              "  <div class=\"colab-df-container\">\n",
              "    <button class=\"colab-df-convert\" onclick=\"convertToInteractive('df-092e7578-da29-43bb-9781-6a49ec9867b0')\"\n",
              "            title=\"Convert this dataframe to an interactive table.\"\n",
              "            style=\"display:none;\">\n",
              "\n",
              "  <svg xmlns=\"http://www.w3.org/2000/svg\" height=\"24px\" viewBox=\"0 -960 960 960\">\n",
              "    <path d=\"M120-120v-720h720v720H120Zm60-500h600v-160H180v160Zm220 220h160v-160H400v160Zm0 220h160v-160H400v160ZM180-400h160v-160H180v160Zm440 0h160v-160H620v160ZM180-180h160v-160H180v160Zm440 0h160v-160H620v160Z\"/>\n",
              "  </svg>\n",
              "    </button>\n",
              "\n",
              "  <style>\n",
              "    .colab-df-container {\n",
              "      display:flex;\n",
              "      gap: 12px;\n",
              "    }\n",
              "\n",
              "    .colab-df-convert {\n",
              "      background-color: #E8F0FE;\n",
              "      border: none;\n",
              "      border-radius: 50%;\n",
              "      cursor: pointer;\n",
              "      display: none;\n",
              "      fill: #1967D2;\n",
              "      height: 32px;\n",
              "      padding: 0 0 0 0;\n",
              "      width: 32px;\n",
              "    }\n",
              "\n",
              "    .colab-df-convert:hover {\n",
              "      background-color: #E2EBFA;\n",
              "      box-shadow: 0px 1px 2px rgba(60, 64, 67, 0.3), 0px 1px 3px 1px rgba(60, 64, 67, 0.15);\n",
              "      fill: #174EA6;\n",
              "    }\n",
              "\n",
              "    .colab-df-buttons div {\n",
              "      margin-bottom: 4px;\n",
              "    }\n",
              "\n",
              "    [theme=dark] .colab-df-convert {\n",
              "      background-color: #3B4455;\n",
              "      fill: #D2E3FC;\n",
              "    }\n",
              "\n",
              "    [theme=dark] .colab-df-convert:hover {\n",
              "      background-color: #434B5C;\n",
              "      box-shadow: 0px 1px 3px 1px rgba(0, 0, 0, 0.15);\n",
              "      filter: drop-shadow(0px 1px 2px rgba(0, 0, 0, 0.3));\n",
              "      fill: #FFFFFF;\n",
              "    }\n",
              "  </style>\n",
              "\n",
              "    <script>\n",
              "      const buttonEl =\n",
              "        document.querySelector('#df-092e7578-da29-43bb-9781-6a49ec9867b0 button.colab-df-convert');\n",
              "      buttonEl.style.display =\n",
              "        google.colab.kernel.accessAllowed ? 'block' : 'none';\n",
              "\n",
              "      async function convertToInteractive(key) {\n",
              "        const element = document.querySelector('#df-092e7578-da29-43bb-9781-6a49ec9867b0');\n",
              "        const dataTable =\n",
              "          await google.colab.kernel.invokeFunction('convertToInteractive',\n",
              "                                                    [key], {});\n",
              "        if (!dataTable) return;\n",
              "\n",
              "        const docLinkHtml = 'Like what you see? Visit the ' +\n",
              "          '<a target=\"_blank\" href=https://colab.research.google.com/notebooks/data_table.ipynb>data table notebook</a>'\n",
              "          + ' to learn more about interactive tables.';\n",
              "        element.innerHTML = '';\n",
              "        dataTable['output_type'] = 'display_data';\n",
              "        await google.colab.output.renderOutput(dataTable, element);\n",
              "        const docLink = document.createElement('div');\n",
              "        docLink.innerHTML = docLinkHtml;\n",
              "        element.appendChild(docLink);\n",
              "      }\n",
              "    </script>\n",
              "  </div>\n",
              "\n",
              "\n",
              "<div id=\"df-eccef129-eb96-4751-bd04-4c631608aa55\">\n",
              "  <button class=\"colab-df-quickchart\" onclick=\"quickchart('df-eccef129-eb96-4751-bd04-4c631608aa55')\"\n",
              "            title=\"Suggest charts\"\n",
              "            style=\"display:none;\">\n",
              "\n",
              "<svg xmlns=\"http://www.w3.org/2000/svg\" height=\"24px\"viewBox=\"0 0 24 24\"\n",
              "     width=\"24px\">\n",
              "    <g>\n",
              "        <path d=\"M19 3H5c-1.1 0-2 .9-2 2v14c0 1.1.9 2 2 2h14c1.1 0 2-.9 2-2V5c0-1.1-.9-2-2-2zM9 17H7v-7h2v7zm4 0h-2V7h2v10zm4 0h-2v-4h2v4z\"/>\n",
              "    </g>\n",
              "</svg>\n",
              "  </button>\n",
              "\n",
              "<style>\n",
              "  .colab-df-quickchart {\n",
              "      --bg-color: #E8F0FE;\n",
              "      --fill-color: #1967D2;\n",
              "      --hover-bg-color: #E2EBFA;\n",
              "      --hover-fill-color: #174EA6;\n",
              "      --disabled-fill-color: #AAA;\n",
              "      --disabled-bg-color: #DDD;\n",
              "  }\n",
              "\n",
              "  [theme=dark] .colab-df-quickchart {\n",
              "      --bg-color: #3B4455;\n",
              "      --fill-color: #D2E3FC;\n",
              "      --hover-bg-color: #434B5C;\n",
              "      --hover-fill-color: #FFFFFF;\n",
              "      --disabled-bg-color: #3B4455;\n",
              "      --disabled-fill-color: #666;\n",
              "  }\n",
              "\n",
              "  .colab-df-quickchart {\n",
              "    background-color: var(--bg-color);\n",
              "    border: none;\n",
              "    border-radius: 50%;\n",
              "    cursor: pointer;\n",
              "    display: none;\n",
              "    fill: var(--fill-color);\n",
              "    height: 32px;\n",
              "    padding: 0;\n",
              "    width: 32px;\n",
              "  }\n",
              "\n",
              "  .colab-df-quickchart:hover {\n",
              "    background-color: var(--hover-bg-color);\n",
              "    box-shadow: 0 1px 2px rgba(60, 64, 67, 0.3), 0 1px 3px 1px rgba(60, 64, 67, 0.15);\n",
              "    fill: var(--button-hover-fill-color);\n",
              "  }\n",
              "\n",
              "  .colab-df-quickchart-complete:disabled,\n",
              "  .colab-df-quickchart-complete:disabled:hover {\n",
              "    background-color: var(--disabled-bg-color);\n",
              "    fill: var(--disabled-fill-color);\n",
              "    box-shadow: none;\n",
              "  }\n",
              "\n",
              "  .colab-df-spinner {\n",
              "    border: 2px solid var(--fill-color);\n",
              "    border-color: transparent;\n",
              "    border-bottom-color: var(--fill-color);\n",
              "    animation:\n",
              "      spin 1s steps(1) infinite;\n",
              "  }\n",
              "\n",
              "  @keyframes spin {\n",
              "    0% {\n",
              "      border-color: transparent;\n",
              "      border-bottom-color: var(--fill-color);\n",
              "      border-left-color: var(--fill-color);\n",
              "    }\n",
              "    20% {\n",
              "      border-color: transparent;\n",
              "      border-left-color: var(--fill-color);\n",
              "      border-top-color: var(--fill-color);\n",
              "    }\n",
              "    30% {\n",
              "      border-color: transparent;\n",
              "      border-left-color: var(--fill-color);\n",
              "      border-top-color: var(--fill-color);\n",
              "      border-right-color: var(--fill-color);\n",
              "    }\n",
              "    40% {\n",
              "      border-color: transparent;\n",
              "      border-right-color: var(--fill-color);\n",
              "      border-top-color: var(--fill-color);\n",
              "    }\n",
              "    60% {\n",
              "      border-color: transparent;\n",
              "      border-right-color: var(--fill-color);\n",
              "    }\n",
              "    80% {\n",
              "      border-color: transparent;\n",
              "      border-right-color: var(--fill-color);\n",
              "      border-bottom-color: var(--fill-color);\n",
              "    }\n",
              "    90% {\n",
              "      border-color: transparent;\n",
              "      border-bottom-color: var(--fill-color);\n",
              "    }\n",
              "  }\n",
              "</style>\n",
              "\n",
              "  <script>\n",
              "    async function quickchart(key) {\n",
              "      const quickchartButtonEl =\n",
              "        document.querySelector('#' + key + ' button');\n",
              "      quickchartButtonEl.disabled = true;  // To prevent multiple clicks.\n",
              "      quickchartButtonEl.classList.add('colab-df-spinner');\n",
              "      try {\n",
              "        const charts = await google.colab.kernel.invokeFunction(\n",
              "            'suggestCharts', [key], {});\n",
              "      } catch (error) {\n",
              "        console.error('Error during call to suggestCharts:', error);\n",
              "      }\n",
              "      quickchartButtonEl.classList.remove('colab-df-spinner');\n",
              "      quickchartButtonEl.classList.add('colab-df-quickchart-complete');\n",
              "    }\n",
              "    (() => {\n",
              "      let quickchartButtonEl =\n",
              "        document.querySelector('#df-eccef129-eb96-4751-bd04-4c631608aa55 button');\n",
              "      quickchartButtonEl.style.display =\n",
              "        google.colab.kernel.accessAllowed ? 'block' : 'none';\n",
              "    })();\n",
              "  </script>\n",
              "</div>\n",
              "\n",
              "  <div id=\"id_733838b8-dd1c-487e-a865-bc72f4faf434\">\n",
              "    <style>\n",
              "      .colab-df-generate {\n",
              "        background-color: #E8F0FE;\n",
              "        border: none;\n",
              "        border-radius: 50%;\n",
              "        cursor: pointer;\n",
              "        display: none;\n",
              "        fill: #1967D2;\n",
              "        height: 32px;\n",
              "        padding: 0 0 0 0;\n",
              "        width: 32px;\n",
              "      }\n",
              "\n",
              "      .colab-df-generate:hover {\n",
              "        background-color: #E2EBFA;\n",
              "        box-shadow: 0px 1px 2px rgba(60, 64, 67, 0.3), 0px 1px 3px 1px rgba(60, 64, 67, 0.15);\n",
              "        fill: #174EA6;\n",
              "      }\n",
              "\n",
              "      [theme=dark] .colab-df-generate {\n",
              "        background-color: #3B4455;\n",
              "        fill: #D2E3FC;\n",
              "      }\n",
              "\n",
              "      [theme=dark] .colab-df-generate:hover {\n",
              "        background-color: #434B5C;\n",
              "        box-shadow: 0px 1px 3px 1px rgba(0, 0, 0, 0.15);\n",
              "        filter: drop-shadow(0px 1px 2px rgba(0, 0, 0, 0.3));\n",
              "        fill: #FFFFFF;\n",
              "      }\n",
              "    </style>\n",
              "    <button class=\"colab-df-generate\" onclick=\"generateWithVariable('clean_df')\"\n",
              "            title=\"Generate code using this dataframe.\"\n",
              "            style=\"display:none;\">\n",
              "\n",
              "  <svg xmlns=\"http://www.w3.org/2000/svg\" height=\"24px\"viewBox=\"0 0 24 24\"\n",
              "       width=\"24px\">\n",
              "    <path d=\"M7,19H8.4L18.45,9,17,7.55,7,17.6ZM5,21V16.75L18.45,3.32a2,2,0,0,1,2.83,0l1.4,1.43a1.91,1.91,0,0,1,.58,1.4,1.91,1.91,0,0,1-.58,1.4L9.25,21ZM18.45,9,17,7.55Zm-12,3A5.31,5.31,0,0,0,4.9,8.1,5.31,5.31,0,0,0,1,6.5,5.31,5.31,0,0,0,4.9,4.9,5.31,5.31,0,0,0,6.5,1,5.31,5.31,0,0,0,8.1,4.9,5.31,5.31,0,0,0,12,6.5,5.46,5.46,0,0,0,6.5,12Z\"/>\n",
              "  </svg>\n",
              "    </button>\n",
              "    <script>\n",
              "      (() => {\n",
              "      const buttonEl =\n",
              "        document.querySelector('#id_733838b8-dd1c-487e-a865-bc72f4faf434 button.colab-df-generate');\n",
              "      buttonEl.style.display =\n",
              "        google.colab.kernel.accessAllowed ? 'block' : 'none';\n",
              "\n",
              "      buttonEl.onclick = () => {\n",
              "        google.colab.notebook.generateWithVariable('clean_df');\n",
              "      }\n",
              "      })();\n",
              "    </script>\n",
              "  </div>\n",
              "\n",
              "    </div>\n",
              "  </div>\n"
            ],
            "application/vnd.google.colaboratory.intrinsic+json": {
              "type": "dataframe",
              "variable_name": "clean_df",
              "summary": "{\n  \"name\": \"clean_df\",\n  \"rows\": 2484,\n  \"fields\": [\n    {\n      \"column\": \"ID\",\n      \"properties\": {\n        \"dtype\": \"number\",\n        \"std\": 21457345,\n        \"min\": 3547447,\n        \"max\": 99806115,\n        \"num_unique_values\": 2484,\n        \"samples\": [\n          99244405,\n          17562754,\n          30311725\n        ],\n        \"semantic_type\": \"\",\n        \"description\": \"\"\n      }\n    },\n    {\n      \"column\": \"Category\",\n      \"properties\": {\n        \"dtype\": \"category\",\n        \"num_unique_values\": 24,\n        \"samples\": [\n          \"AGRICULTURE\",\n          \"APPAREL\",\n          \"HR\"\n        ],\n        \"semantic_type\": \"\",\n        \"description\": \"\"\n      }\n    },\n    {\n      \"column\": \"Feature\",\n      \"properties\": {\n        \"dtype\": \"string\",\n        \"num_unique_values\": 2481,\n        \"samples\": [\n          \"information technology specialist discountpcfix summary obsessed technology power change everything technology fuels passion commitment helping organizations set engage bring fresh ideas help team galvanize performance refine strategy spark new energy future get depends build connect create transform world accomplished years information technology support experience highly articulate capable experienced installing updating hardware software systems users known effectively optimizing systems meet changing demands enhancing collaboration improving security experienced operations analyst first rate skills organizing problem solving project management ready apply experience abilities take new professional challenges passionate driven professional remarkable analytical problem solving skills expert quality assurance tester offering five years experience detailed technical system specifications provides collaborative style well developed communication skills seeking role test reporting defect resolution well rounded team player dynamic written verbal communication skills hardworking resourceful team player history going achieve notable results offering excellent blend technical aptitude creative ability inspires design teams engaging management techniques innovative thinking resourceful technical support engineer polished restoring system functionality quickly assessing resolving diverse hardware software problems skills issue escalation reporting analysis quality control schematic understanding critical thinking data management network administration experience leadership improvement plan knowledge supervision hardware repair computer configurations system upgrades new program installations organizational leadership troubleshooting maintenance equipment repair power hand tool use troubleshooting repairs preventative maintenance telecommunications systems component repairs multitasking part inspections friendly positive attitude lan wan configurations server system administration end user training program installations software testing server improvements data backups project management security technologies network configuration time management active directory knowledge cybersecurity analysis system administration microsoft office ms office apple ios technician help desk assistance application software testing mechanical abilities information systems security professional advanced knowledge windows os advanced knowledge google chrome soldering database management technical knowledge server system softwares servers storage systems network equipment pcs notebooks brands experience information technology specialist discountpcfix current company name city state assisted client new computer network equipment purchases updated installed software customers ensure computer efficiency checked computers performed diagnostics repair backed data evening helping alleviate lost information following malware incident updated software versions patches new installations close security loopholes protect users identified hardware issues caused component failures using approved diagnostic tools installed motherboards processors graphics cards configured computers network drivers connected printers peripheral equipment upgraded laptops desktops improving speed performance fixed apple iphone imac ipad laptop products screen damage fixed brand windows os mac os chrome os products liquid damage observed system functioning entered commands test different areas operations explained technology related details easy understand terms individuals walks life various job positions responded assistance requests users directed individuals basic troubleshooting tasks reviewed current hardware software configurations recommended modifications increase system speed serviced repaired equipment according manufacturer guidelines installed new systems components according service orders manufacturer instructions assessed identified issues quickly resolved restore functionality built repaired computers according schedule installed configured setup pcs stores optimal operation reporting evaluated interfaces hardware software testing performance requirements studied complex technical issues determined proper resolution methods assisted post implementation troubleshooting new applications application upgrades determined alleviated hardware software network issues installed supported hardware software including desktops servers printers identified operational performance issues worked managers resolve concerns completed various reports analyzed report decide improvements could made recommended process systems improvements changes operations updated hardware software availability supervised network eliminate bottlenecks immediately handled network configurations hours weekends alleviate downtime maintain smooth operations assisted customers various types technical issues email live telephone delivered local remote tier support hardware software company personnel disassembled computer systems troubleshoot resolve hardware issues increased overall company performance improved uptime cost reductions quality control inspector contractor current company name city state conferred scientific engineering technical personnel resolve design research testing problems worked engineers facilitate research development testing correct mechanical failures generate technical specifications prior release developed implemented best practices defect prevention continuous improvement used specialized tools take precise measurements various aspects samples consulted engineers resolve quality production efficiency problems wrote detailed reports outlining performance quality defect rates completed non destructive tests visual inspections continuous basis inspected quality finished products making minor repairs meet project expectations documented nonconformities immediately recommended techniques prompt resolution completed non destructive tests visual inspections continuously reviewed drawings blueprints determine appropriate level inspection required adhered safety protocols minimize equipment damage avoid injuries assessed materials parts products conformance quality control requirements production specifications network analyst company name city state identified operational performance issues worked managers resolve concerns supporting following hardware types servers storage systems network equipment pcs ipad notebooks brands analyzed operational performance identify pain points provided actionable solutions management educated personnel company policies foster improved customer retention increased revenue technical knowledge standard server system software linux windows vmware drove revenue customer retention visiting corporate franchise centers serving clients educate staff company policies customer styling applications wrote reports outlining results facilitate management decision making executed monitored standards user interfaces page design graphics development provided senior technical support house staff user departments network applications monitored project budget careful assessment resource usage task management ensure costs kept low supported customers password resets account customization recorded complaints product deficiencies returned orders customer documentation system supported customers data connectivity issues assisting troubleshooting steps rebooting hardware maintained composure patience face difficult customer situations applying escalation techniques positive customer support performed site evaluations customer surveys team audits promoted continuous improvement governance processes spearheaded server infrastructure development quality control staging production operations quality control manager company name city state stayed well informed company federal regulations bolstered compliance corporate processes used creative professional policy find solutions issues diminishing conflicts handled scheduling procedures department directed team members setting achieving goals observed customer specifications monitoring quality control finished products education training federal polytechnic ado ekiti city state associate science science technology phoenix east aviation city state f aircraft dispatcher license aviation university colorado boulder city certificate cybersecurity policy aviation internet google support city certificate completed professional course security defense digital dark arts operating system becoming power user bits bytes computer networking system administration infrastructure service technical support fundamentals\",\n          \"business development director summary collaborate multiple stakeholders determine audience needs quickly developing strategic plans align clients business priorities strategies experience business development director current company name city state producing measurable results clients designing unique engagement initiatives employees sales channel partners consumers groups sales performance improvement products intangible services fortune clients success discovering growing business customers potential spend million year designed innovative solutions customized customers various objectives end result needs managing internal teams develop design operate complex custom projects ranging value least millions titles called include entire c suite ceo coo cfo cmo president evp marketing sales human resources finance define business issues improve revenue penetrating existing accounts opening new sold new accounts current position managed sales volume profit margin long sales cycle managed hired staff work major global account travel meetings business years total book business constantly million year nearly twice entertainment activity similar tenure achieved million sales twice becoming trusted partner clients customers want win account territory district sales manager national account sales company name city state responsible growth distributor sales volume product mix motivation dsr sales forces developed custom local training marketing materials later adopted nestle corporate distributor chain accounts accounted million sales increased chain accounts national accounts created sales forecasts developed budgets strategic plans managed entire regional office staff working team grew business nestle largest account nearly double surpassed sales budget goals year manager twice led company nationally new product introductions district sales grew million million district manager hired five salespeople direct reports promoted managed eight account managers time developed new reports marketing promotional strategies field designed account reviews process management field training programs entire company sold small business owners managed distributor sales accounts using strategic planning innovative programming cultivating strong personal relationships took area territory sales million mature company industry average annual increase financial operations executive department merchandising manager company name city state financial operations executive south bend store volunteered merchandise manager stores largest department role department highest foot sales volume department entire corporation th quarter accomplishments times president achievement guild award winner sales volume profit times president achievement award winner sales volume profit times achievement guild winner leadership year running combined volume top travel meetings sales several times biw national sales contest superbowl twice awarded achiever year profitable direct customer reviewed consistently management career outstanding exceeding expectations college elected executive positions finance club resident housing association skills sales business development distributor sales territory sales district sales sales solutions sales teams sales accounts national accounts sales management strategic accounts sales promotions travel meeting sales technology application sales clients management marketing budget budgets forecasts promotional travel meeting operations strategic planning training training development financial operations merchandising corporate operations employee engagement managing existing accounts forecasting human resources finding new accounts relationship building strategic direction education bachelor business administration finance general business western michigan university city state earned educational living costs jobs worked college industrial heavy construction excelled several sales roles including direct sales home goods direct sales national trip ranked top country sales started twosuccessful campus businesses member varsity division football team years organizations imex milford memories planning board huron valley youth baseball president treasurer director travel baseball lakeland milford travel secretary milford high school baseball instructor\",\n          \"engineering intern personal summary age years permanenet residency australia new zealand citizen currently living sydney australia knowledge base c python r stk catia ansys latex solidworks microsoft office microsoft project academic background high school diploma mathematics physics chemistry engineering nortmead high school city state australia ranked st place unit mathematics physics chemistry engineering studies ranked rd place extension mathematics english advanced received nd highest atar school bachelor science bachelor engineering honours aerospace university new south wales unsw city state australia maintained distinction final years university obtained high distinction distinction results advanced rd th year subjects engineering faculty dynamics aerospace vehicles avionics finite element methods aerodynamics professional engineering communication thesis using matlab programming certifications credentials scrum fundamentals certified data science fundamentals certified oracle sql developer advanced sql sql expert progress experience engineering intern feb apr company name city state achievements collaborated team engineers different fields goal creating technical solutions product concerns raised customers produced test record documentation containing solutions customers contacted customers directly verbally convey test result explain solution procedure written documentation successfully independently scoped business opportunities technically analysing possible options presented information company director independently autonomously researched far regulations successfully create test record sheets containing correct load values test methodology structural load testing seats aeromedical transport vehicles quickly learned production article conformity procedures taught casa regulatory authorities applied knowledge techniques autonomously measure articles appropriate measuring equipment tools strict timeframes reported nonconformities provided recommendations modifications directly design engineer built tested verified products performing functional qualitative inspections discover faults issues production articles deduced failure modes items undergo structural load testing using problem solving skills analytical skills using finite element ansys software independently created equipment supports integrated safety barriers analytical cad assisted design construction using mechanical engineering methods tools equipment desoldered soldered electronic components circuit boards rapidly create multiple fully functioning led lights used electronic medical equipment sales representative may jan company name city efficiently recorded sales orders purchase orders fire warning systems lights electrical fittings cameras displayed excellent customer service skills interpersonal skills communicating australian international customers phone provide information products maintaining regular email phone contact customers collaborated sales manager provide updates progress accounts prepared followed customer quotes turned leads appointments provided training customers ensure efficiently clean correctly use maintain company product applied regular follow process maximizing sales enquiry selling new customers identifying sales opportunities basic repairs maintenance existing customers ensuring email telephone enquiries answered minutes displayed ability focus high pressure environments calmly handling customer complaints showed flexibility collaborating administration team demanding times complete administrative tasks update records demonstrated attention detail utilizing time management skills setting goals prioritizing tasks creating schedules work strict deadlines tutor feb may company name city state tutored students one one classes group classes using effective teaching techniques help students ranging year difficulties science mathematics physics chemistry english provided assistance students ranging year fast paced homework help classes mechanical design engineer aug jul company name city state shared responsibility designing cubesat leader mechanical design team entry canadian satellite design challenge csdc solidworks structurally tested ansys printed completion design communicated teams fields using jira involved constructing mars rover entry european rover challenge erc led mechanical team designing gimbal gyroscopic testbed reaction wheel system solidworks displayed future students form printed model trained new members mechanical team using solidworks taught thermal electrical structural concepts memberships bluesat basic low earth orbit unsw experimental satellite group engineers australia achievements shared responsibility designing cubesat leader mechanical design team entry canadian satellite design challenge csdc solidworks structurally tested ansys printed completion design communicated teams fields using jira involved constructing mars rover entry european rover challenge erc led mechanical team designing gimbal gyroscopic testbed reaction wheel system solidworks displayed future students form printed modeltrained new members mechanical team using solidworks taught thermal electrical structural concepts community services social support youth services volunteer karabi community development services wentworthville sydney going achievements displayed passion social service support teaching facilitating setting activities events elderly people disabilities children provided assistance administration creative work office facilitating supervising youth school holiday programs personal interests hobbies traveling tennis hiking statistics cad drawing aircraft spacecraft astronomy\"\n        ],\n        \"semantic_type\": \"\",\n        \"description\": \"\"\n      }\n    }\n  ]\n}"
            }
          },
          "metadata": {},
          "execution_count": 19
        }
      ]
    },
    {
      "cell_type": "code",
      "execution_count": null,
      "id": "5cff7568",
      "metadata": {
        "colab": {
          "base_uri": "https://localhost:8080/",
          "height": 868
        },
        "id": "5cff7568",
        "outputId": "1d1a3d18-3331-430d-ace3-03c800ad6a30"
      },
      "outputs": [
        {
          "output_type": "execute_result",
          "data": {
            "text/plain": [
              "Category\n",
              "INFORMATION-TECHNOLOGY    120\n",
              "BUSINESS-DEVELOPMENT      120\n",
              "FINANCE                   118\n",
              "ADVOCATE                  118\n",
              "ACCOUNTANT                118\n",
              "ENGINEERING               118\n",
              "CHEF                      118\n",
              "AVIATION                  117\n",
              "FITNESS                   117\n",
              "SALES                     116\n",
              "BANKING                   115\n",
              "HEALTHCARE                115\n",
              "CONSULTANT                115\n",
              "CONSTRUCTION              112\n",
              "PUBLIC-RELATIONS          111\n",
              "HR                        110\n",
              "DESIGNER                  107\n",
              "ARTS                      103\n",
              "TEACHER                   102\n",
              "APPAREL                    97\n",
              "DIGITAL-MEDIA              96\n",
              "AGRICULTURE                63\n",
              "AUTOMOBILE                 36\n",
              "BPO                        22\n",
              "Name: count, dtype: int64"
            ],
            "text/html": [
              "<div>\n",
              "<style scoped>\n",
              "    .dataframe tbody tr th:only-of-type {\n",
              "        vertical-align: middle;\n",
              "    }\n",
              "\n",
              "    .dataframe tbody tr th {\n",
              "        vertical-align: top;\n",
              "    }\n",
              "\n",
              "    .dataframe thead th {\n",
              "        text-align: right;\n",
              "    }\n",
              "</style>\n",
              "<table border=\"1\" class=\"dataframe\">\n",
              "  <thead>\n",
              "    <tr style=\"text-align: right;\">\n",
              "      <th></th>\n",
              "      <th>count</th>\n",
              "    </tr>\n",
              "    <tr>\n",
              "      <th>Category</th>\n",
              "      <th></th>\n",
              "    </tr>\n",
              "  </thead>\n",
              "  <tbody>\n",
              "    <tr>\n",
              "      <th>INFORMATION-TECHNOLOGY</th>\n",
              "      <td>120</td>\n",
              "    </tr>\n",
              "    <tr>\n",
              "      <th>BUSINESS-DEVELOPMENT</th>\n",
              "      <td>120</td>\n",
              "    </tr>\n",
              "    <tr>\n",
              "      <th>FINANCE</th>\n",
              "      <td>118</td>\n",
              "    </tr>\n",
              "    <tr>\n",
              "      <th>ADVOCATE</th>\n",
              "      <td>118</td>\n",
              "    </tr>\n",
              "    <tr>\n",
              "      <th>ACCOUNTANT</th>\n",
              "      <td>118</td>\n",
              "    </tr>\n",
              "    <tr>\n",
              "      <th>ENGINEERING</th>\n",
              "      <td>118</td>\n",
              "    </tr>\n",
              "    <tr>\n",
              "      <th>CHEF</th>\n",
              "      <td>118</td>\n",
              "    </tr>\n",
              "    <tr>\n",
              "      <th>AVIATION</th>\n",
              "      <td>117</td>\n",
              "    </tr>\n",
              "    <tr>\n",
              "      <th>FITNESS</th>\n",
              "      <td>117</td>\n",
              "    </tr>\n",
              "    <tr>\n",
              "      <th>SALES</th>\n",
              "      <td>116</td>\n",
              "    </tr>\n",
              "    <tr>\n",
              "      <th>BANKING</th>\n",
              "      <td>115</td>\n",
              "    </tr>\n",
              "    <tr>\n",
              "      <th>HEALTHCARE</th>\n",
              "      <td>115</td>\n",
              "    </tr>\n",
              "    <tr>\n",
              "      <th>CONSULTANT</th>\n",
              "      <td>115</td>\n",
              "    </tr>\n",
              "    <tr>\n",
              "      <th>CONSTRUCTION</th>\n",
              "      <td>112</td>\n",
              "    </tr>\n",
              "    <tr>\n",
              "      <th>PUBLIC-RELATIONS</th>\n",
              "      <td>111</td>\n",
              "    </tr>\n",
              "    <tr>\n",
              "      <th>HR</th>\n",
              "      <td>110</td>\n",
              "    </tr>\n",
              "    <tr>\n",
              "      <th>DESIGNER</th>\n",
              "      <td>107</td>\n",
              "    </tr>\n",
              "    <tr>\n",
              "      <th>ARTS</th>\n",
              "      <td>103</td>\n",
              "    </tr>\n",
              "    <tr>\n",
              "      <th>TEACHER</th>\n",
              "      <td>102</td>\n",
              "    </tr>\n",
              "    <tr>\n",
              "      <th>APPAREL</th>\n",
              "      <td>97</td>\n",
              "    </tr>\n",
              "    <tr>\n",
              "      <th>DIGITAL-MEDIA</th>\n",
              "      <td>96</td>\n",
              "    </tr>\n",
              "    <tr>\n",
              "      <th>AGRICULTURE</th>\n",
              "      <td>63</td>\n",
              "    </tr>\n",
              "    <tr>\n",
              "      <th>AUTOMOBILE</th>\n",
              "      <td>36</td>\n",
              "    </tr>\n",
              "    <tr>\n",
              "      <th>BPO</th>\n",
              "      <td>22</td>\n",
              "    </tr>\n",
              "  </tbody>\n",
              "</table>\n",
              "</div><br><label><b>dtype:</b> int64</label>"
            ]
          },
          "metadata": {},
          "execution_count": 3
        }
      ],
      "source": [
        "clean_df['Category'].value_counts()"
      ]
    },
    {
      "cell_type": "code",
      "execution_count": null,
      "id": "7f5bc96c",
      "metadata": {
        "id": "7f5bc96c"
      },
      "outputs": [],
      "source": [
        "clean_df.to_csv('clean_resume_data.csv')"
      ]
    },
    {
      "cell_type": "code",
      "execution_count": null,
      "id": "f95a6d9d",
      "metadata": {
        "colab": {
          "base_uri": "https://localhost:8080/"
        },
        "id": "f95a6d9d",
        "outputId": "ee73f465-88a9-49ce-ab00-5fc9ab7e32c0"
      },
      "outputs": [
        {
          "output_type": "execute_result",
          "data": {
            "text/plain": [
              "(2484, 3)"
            ]
          },
          "metadata": {},
          "execution_count": 4
        }
      ],
      "source": [
        "clean_df.shape"
      ]
    },
    {
      "cell_type": "markdown",
      "id": "f74ce74a",
      "metadata": {
        "id": "f74ce74a"
      },
      "source": [
        "# Exploratory Data analysis"
      ]
    },
    {
      "cell_type": "code",
      "execution_count": null,
      "id": "90ac5e32",
      "metadata": {
        "colab": {
          "base_uri": "https://localhost:8080/",
          "height": 401
        },
        "id": "90ac5e32",
        "outputId": "a5960160-fcef-4402-ee41-08e9336aecec"
      },
      "outputs": [
        {
          "output_type": "display_data",
          "data": {
            "text/plain": [
              "<Figure size 1500x500 with 1 Axes>"
            ],
            "image/png": "[encoded data removed]"
          },
          "metadata": {}
        }
      ],
      "source": [
        "plt.figure(figsize=(15,5))\n",
        "sns.countplot(clean_df['Category'])\n",
        "plt.xticks(rotation=90)\n",
        "plt.show()"
      ]
    },
    {
      "cell_type": "markdown",
      "id": "047ceef4",
      "metadata": {
        "id": "047ceef4"
      },
      "source": [
        "# Balance Dataset"
      ]
    },
    {
      "cell_type": "code",
      "execution_count": null,
      "id": "8e41a1ea",
      "metadata": {
        "id": "8e41a1ea"
      },
      "outputs": [],
      "source": [
        "from sklearn.utils import resample\n",
        "max_count = clean_df['Category'].value_counts().max()\n",
        "\n",
        "balanced_data = []\n",
        "for category in clean_df['Category'].unique():\n",
        "    category_data = clean_df[clean_df['Category'] == category]\n",
        "    if len(category_data) < max_count:\n",
        "        balanced_category_data = resample(category_data, replace=True, n_samples=max_count, random_state=42)\n",
        "    else:\n",
        "        balanced_category_data = resample(category_data, replace=False, n_samples=max_count, random_state=42)\n",
        "    balanced_data.append(balanced_category_data)\n",
        "\n",
        "balanced_df = pd.concat(balanced_data)"
      ]
    },
    {
      "cell_type": "code",
      "execution_count": null,
      "id": "617f48ed",
      "metadata": {
        "id": "617f48ed"
      },
      "outputs": [],
      "source": [
        "balanced_df.dropna(inplace=True)"
      ]
    },
    {
      "cell_type": "markdown",
      "id": "8c4d5509",
      "metadata": {
        "id": "8c4d5509"
      },
      "source": [
        "# Train-Test Split\n"
      ]
    },
    {
      "cell_type": "code",
      "execution_count": null,
      "id": "0f9cea95",
      "metadata": {
        "id": "0f9cea95"
      },
      "outputs": [],
      "source": [
        "X = balanced_df['Feature']\n",
        "y = balanced_df['Category']\n",
        "X_train, X_test, y_train, y_test = train_test_split(X, y, test_size=0.2, random_state=42)"
      ]
    },
    {
      "cell_type": "markdown",
      "id": "3bf76e00",
      "metadata": {
        "id": "3bf76e00"
      },
      "source": [
        "# Encoding (TF-IDF)"
      ]
    },
    {
      "cell_type": "code",
      "execution_count": null,
      "id": "d91b7e6d",
      "metadata": {
        "id": "d91b7e6d"
      },
      "outputs": [],
      "source": [
        "tfidf_vectorizer = TfidfVectorizer()\n",
        "X_train_tfidf = tfidf_vectorizer.fit_transform(X_train)\n",
        "X_test_tfidf = tfidf_vectorizer.transform(X_test)"
      ]
    },
    {
      "cell_type": "markdown",
      "id": "884d20c6",
      "metadata": {
        "id": "884d20c6"
      },
      "source": [
        "#  Train Random Forest Classifier"
      ]
    },
    {
      "cell_type": "code",
      "execution_count": null,
      "id": "32836998",
      "metadata": {
        "colab": {
          "base_uri": "https://localhost:8080/",
          "height": 1000
        },
        "id": "32836998",
        "outputId": "5592a654-51c4-4e80-d38b-514095df866b"
      },
      "outputs": [
        {
          "output_type": "stream",
          "name": "stdout",
          "text": [
            "Accuracy: 0.8489583333333334\n",
            "                        precision    recall  f1-score   support\n",
            "\n",
            "            ACCOUNTANT       0.77      0.95      0.85        21\n",
            "              ADVOCATE       1.00      0.79      0.88        29\n",
            "           AGRICULTURE       0.90      0.78      0.84        23\n",
            "               APPAREL       0.94      0.81      0.87        21\n",
            "                  ARTS       0.88      0.64      0.74        22\n",
            "            AUTOMOBILE       0.95      1.00      0.97        19\n",
            "              AVIATION       0.94      1.00      0.97        30\n",
            "               BANKING       1.00      0.78      0.88        23\n",
            "                   BPO       1.00      1.00      1.00        15\n",
            "  BUSINESS-DEVELOPMENT       0.56      0.78      0.65        18\n",
            "                  CHEF       0.90      1.00      0.95        28\n",
            "          CONSTRUCTION       0.86      1.00      0.93        25\n",
            "            CONSULTANT       0.94      0.55      0.69        31\n",
            "              DESIGNER       0.96      0.96      0.96        28\n",
            "         DIGITAL-MEDIA       0.85      0.81      0.83        21\n",
            "           ENGINEERING       0.88      0.96      0.92        23\n",
            "               FINANCE       0.82      0.67      0.74        21\n",
            "               FITNESS       0.84      0.95      0.89        22\n",
            "            HEALTHCARE       0.81      0.72      0.76        29\n",
            "                    HR       0.66      0.90      0.76        21\n",
            "INFORMATION-TECHNOLOGY       0.77      0.87      0.82        23\n",
            "      PUBLIC-RELATIONS       0.86      0.78      0.82        23\n",
            "                 SALES       0.79      0.70      0.75        27\n",
            "               TEACHER       0.75      1.00      0.86        33\n",
            "\n",
            "              accuracy                           0.85       576\n",
            "             macro avg       0.86      0.85      0.85       576\n",
            "          weighted avg       0.86      0.85      0.85       576\n",
            "\n"
          ]
        },
        {
          "output_type": "display_data",
          "data": {
            "text/plain": [
              "<Figure size 1000x800 with 2 Axes>"
            ],
            "image/png": "[encoded data removed]"
          },
          "metadata": {}
        }
      ],
      "source": [
        "from sklearn.metrics import classification_report\n",
        "\n",
        "rf_classifier = RandomForestClassifier()\n",
        "rf_classifier.fit(X_train_tfidf, y_train)\n",
        "\n",
        "y_pred = rf_classifier.predict(X_test_tfidf)\n",
        "accuracy = accuracy_score(y_test, y_pred)\n",
        "print(\"Accuracy:\", accuracy)\n",
        "print(classification_report(y_test,y_pred))\n",
        "\n",
        "conf_matrix = confusion_matrix(y_test, y_pred)\n",
        "plt.figure(figsize=(10, 8))\n",
        "sns.heatmap(conf_matrix, annot=True, fmt='d', cmap='Blues', xticklabels=rf_classifier.classes_, yticklabels=rf_classifier.classes_)\n",
        "plt.xlabel('Predicted')\n",
        "plt.ylabel('True')\n",
        "plt.title('Confusion Matrix')\n",
        "plt.show()"
      ]
    },
    {
      "cell_type": "markdown",
      "id": "57748215",
      "metadata": {
        "id": "57748215"
      },
      "source": [
        "# Predictive System"
      ]
    },
    {
      "cell_type": "code",
      "execution_count": null,
      "id": "527c455a",
      "metadata": {
        "id": "527c455a"
      },
      "outputs": [],
      "source": [
        "def predict_category(resume_text):\n",
        "    resume_text= cleanResume(resume_text)\n",
        "    resume_tfidf = tfidf_vectorizer.transform([resume_text])\n",
        "    predicted_category = rf_classifier.predict(resume_tfidf)[0]\n",
        "    print(\"**Predicted Category: \"+predicted_category+\"**\")\n",
        "    print()\n"
      ]
    },
    {
      "cell_type": "code",
      "execution_count": null,
      "id": "4c7f06c8",
      "metadata": {
        "id": "4c7f06c8",
        "outputId": "32fc3c5b-a04f-4672-877d-eb5004a03f59",
        "colab": {
          "base_uri": "https://localhost:8080/"
        }
      },
      "outputs": [
        {
          "output_type": "stream",
          "name": "stdout",
          "text": [
            "Predicted Category: HR\n"
          ]
        }
      ],
      "source": [
        "# Example Usage\n",
        "resume_file = \"\"\"hr assistant summary hard worker dedicated detailed oriented experienced organized highly motivated many attributes possess individual years experience human resource administration customer service talent quickly adapt new challenges experience focused benefits administration payroll career development employment law highlights assigned administrative assignments daily basis implemented employee handbook processed documentation employees conducted employees performance reviews managed employee scheduling coordinated upper level co worker lower level teamwork oriented processed new recruits processed payroll performed check managed inventory supplies secured new wholesale food purveyor decrease costs increase profits accomplishments accomplishments pho n restaurant managed restaurant financial objectives developing financing establishing banking relationships prepared strategic annual forecasts budgets analyzing variances initiating corrective actions establishing financial controls developed implemented strategies increase average meal checks created restaurant business plan surveying restaurant demand conferring people community identifying evaluating competitors preparing financial marketing sales projections analyses estimates controlled purchases inventory meeting account manager negotiating prices contracts developing preferred supplier lists reviewing evaluating usage reports analyzing variances taking corrective actions contributed team effort inspired team members motivation provided high level customer service maintain high profile day day operations handled complaints contentious issues settled directly team members provides fast solution accomplished campaign recycle program divide right trash right bin accomplishments dr norman g mckoy associates demonstrated success administrative employee handbook developing team building programs corporate policies job descriptions management reports organized office documents patients charts organized office woking areas welcomed new employees organization conducting orientation organized employees document pockets maintained employees confidence protect operation keeping human resource information confidential maintained employee information entering updating employment status change data provided payroll information collecting time attendance records provided secretarial support entering formatting printing information organizing work answering telephone relaying messages maintaining equipment supplies experience company name city state hr assistant increased productivity physician office organizing patients charts converting digital files streamline patient maintenance processed pay roll paychex includes ensured vacation sick time tracked system answered payroll questions facilited resolutions payroll errors processed incoming mails going mails successfully edited employee handbook define job descriptions create office policies patient managing proper patient reports wrote employee handbook covering issues including disciplinary procedures code conduct fmla policy benefits information wrote standard operations procedures manual sops detailed aspect employee expectations designed implement overall recruiting strategy coordinated office manager recruit right candidates administering interviews conducting background checks processed documentation prepared reports relating personnel activities staffing recruitment training performance evaluations etc identified reduced business expenses increase profits controlling budget compares actual results budget expectations company name city state general manager current hostess waitress promoted interview recruit new hires order sustain longer hours operation thus increased company profitswas successful ensuring successful integration new hires implementing training compensation structures ordered foods supplies restaurant checked maintained inventory handling daily accounting processing payroll processed cost reduction thought venders whole sale increased marketability restaurant designing creating new modernized menu prepared willing step restaurant short staff low turn order increase productivity provide best service maintained great quality quantity foods restaurant created recycle program divided recyclable bin non recyclable waste bin education bachelor arts humanities english university thai chamber commerce city thailand humanities english excelled language culture transportation management critical reading article writing advanced technical reading master science human resource management strayer university city state usa human resource management magna cum laude excelled human resources law management ethical hr information systems hris strategic management registered professional human resources aphr certification hr designations registering aphr professional human resources exam expect complete aphr certification professional affiliations enrolling ongoing training areas compensation benefits employee labor relations leaves absence workers compensation workplace safety security member society human resource management shrm skills human resource management skills employment law hr policies procedures training development performance management employee relations mediation benefits administration orientation boarding organizational development staff life cycle computer skills hris applications peoplesoft enterprise human resources ms office word excel powerpoint access outlook e mailing tools ms outlook windows outlook yahoo google networking skills job boards networking sites soft skills professional communication skills interpersonal skills bilingual thai english excellent adaptability new environments hard working flexible reliable honest polite shape decision making excellent customer service skills creative\n",
        "\"\"\"\n",
        "\n",
        "predicted_category = predict_category(resume_file)\n",
        "print(\"Predicted Category:\", predicted_category)"
      ]
    },
    {
      "cell_type": "code",
      "execution_count": null,
      "id": "6d3274ea",
      "metadata": {
        "id": "6d3274ea",
        "outputId": "36717a02-92f1-4fa4-880e-d97d13464b4f",
        "colab": {
          "base_uri": "https://localhost:8080/"
        }
      },
      "outputs": [
        {
          "output_type": "stream",
          "name": "stdout",
          "text": [
            "Predicted Category: INFORMATION-TECHNOLOGY\n"
          ]
        }
      ],
      "source": [
        "# Example Usage\n",
        "resume_file='information technology manager network engineer professional overview highly skilled accomplished information technology manager years expertise planning implementing streamlining systems ensure maximum customer satisfaction business revenue strong leader demonstrated ability work effectively individuals levels functional areas exceptional communication project management skills ability successfully manage multiple priorities assignments skills platforms windows server professional windows xp pro home win dos citrix ica ms exchange hardware hp ibm dell intel based server desktop platforms cisco switches sonic wall hardware vpns hp laser jets toshiba e color copier toshiba sony laptops inter tel software ms office visio citrix metaframe xp symantec pc anywhere ghost antivirus utilities win fax mcafee virus scan adobe acrobat illustrator photoshop partition magic adware spyware networking tcp ip wireless b g dns wins dhcp relevant experience information technology manager network engineer feb current company name city state responsible day day operations functions wilkes six offices staff members currently lead team professionals developers planning upgrades implementation systems business applications development new software tools work closely cio senior management ensure business technology objectives aligned researched new technologies calculated future needs achieve accurate capacity planning negotiated hardware software purchases maintenance contracts dramatically reduced costs maintenance virtualizing company infrastructure using vmware reduced physical servers streamlined disaster recovery processes planned executed active directory domain migration r coordinated planning migration mpls network sites including upgrades routers switches network equipment increased speed reliability company email migrating microsoft exchange streamlined operations designing new citrix infrastructure using netscaler load balancers ensure better speed connectivity less downtime remote offices led planning implementation disaster recovery site atlanta created company first comprehensive business continuity plan tested success installed configuring barracuda spam virus firewalls resulting reduction spam enforced security policies managed monitored updated spam filtering virus malware prevention systems reduced desktop application deployment times designing implementing microsoft system center configuration manager conducted training internal systems local procedures technical subjects company employees coordinate external technology vendors internal staff members third party consultants network engineer sep jan company name city state administered managed windows server network environment responsible lan wan duties local remote networks acted technical consultant clients various projects provide end user support windows xp operating systems installed implemented exchange mail server implemented server desktop security using mcafee enterprise epolicy orchestrator installed configured web servers ftp servers pop mail servers manage cisco switches routers configured vpn remote access users implemented software domain policies patches upgrades using group policy sus trained new employees systems administration web development network support technician jan aug company name city provided network desktop support users provided technical support offices b domain supported help desk using help star software troubleshooting windows desktop computers implemented group policy objects control desktop environment security performed hardware software upgrades replacements performed installations troubleshooting ms office suite managed users computers organizational units active directory created disc images desktop notebook computers using norton ghost troubleshooting repairs laser printers copy machines education bachelor science management information systems university maryland university college city state certifications microsoft certified technology specialist mcts citrix certified administrator cca information systems management certificate project management certificate'\n",
        "\n",
        "predicted_category = predict_category(resume_file)\n",
        "print(\"Predicted Category:\", predicted_category)"
      ]
    },
    {
      "cell_type": "code",
      "execution_count": null,
      "id": "766f748a",
      "metadata": {
        "id": "766f748a",
        "outputId": "1b5a7a11-a1af-4bad-c2a9-6ca1db82c1c4",
        "colab": {
          "base_uri": "https://localhost:8080/"
        }
      },
      "outputs": [
        {
          "output_type": "stream",
          "name": "stdout",
          "text": [
            "Predicted Category: DESIGNER\n"
          ]
        }
      ],
      "source": [
        "# Example Usage\n",
        "resume_file = \"\"\"Objective:\n",
        "A creative and detail-oriented Designer with a passion for visual communication and brand identity seeking opportunities to leverage design skills in a dynamic and collaborative environment.\n",
        "\n",
        "Education:\n",
        "- Bachelor of Fine Arts in Graphic Design, XYZ College, GPA: 3.7/4.0\n",
        "- Diploma in Web Design, ABC Institute, GPA: 3.9/4.0\n",
        "\n",
        "Skills:\n",
        "- Proficient in Adobe Creative Suite (Photoshop, Illustrator, InDesign)\n",
        "- Strong understanding of typography, layout, and color theory\n",
        "- Experience in both print and digital design\n",
        "- Ability to conceptualize and execute design projects from concept to completion\n",
        "- Excellent attention to detail and time management skills\n",
        "\n",
        "Experience:\n",
        "Graphic Designer | XYZ Design Studio\n",
        "- Created visually appealing graphics for various marketing materials, including brochures, flyers, and social media posts\n",
        "- Collaborated with clients to understand their design needs and deliver creative solutions that align with their brand identity\n",
        "- Worked closely with the marketing team to ensure consistency in brand messaging across all platforms\n",
        "\n",
        "Freelance Designer\n",
        "- Designed logos, branding materials, and website layouts for small businesses and startups\n",
        "- Managed multiple projects simultaneously while meeting tight deadlines and maintaining quality standards\n",
        "- Established and maintained strong client relationships through clear communication and exceptional service\n",
        "\n",
        "Projects:\n",
        "- Rebranding Campaign for XYZ Company: Led a team to redesign the company's logo, website, and marketing collateral, resulting in a 30% increase in brand recognition\n",
        "- Packaging Design for ABC Product Launch: Developed eye-catching packaging designs for a new product line, contributing to a successful launch and positive customer feedback\n",
        "\n",
        "Certifications:\n",
        "- Adobe Certified Expert (ACE) in Adobe Illustrator\n",
        "- Responsive Web Design Certification from Udemy\n",
        "\n",
        "Languages:\n",
        "- English (Native)\n",
        "- Spanish (Intermediate)\n",
        "\"\"\"\n",
        "predicted_category = predict_category(resume_file)\n",
        "print(\"Predicted Category:\", predicted_category)"
      ]
    },
    {
      "cell_type": "markdown",
      "source": [
        "# Skill Recommendation"
      ],
      "metadata": {
        "id": "2D8LhEZ16wID"
      },
      "id": "2D8LhEZ16wID"
    },
    {
      "cell_type": "code",
      "source": [
        "# !pip install google-cloud-aiplatform"
      ],
      "metadata": {
        "id": "XKT4faQ569NI"
      },
      "id": "XKT4faQ569NI",
      "execution_count": null,
      "outputs": []
    },
    {
      "cell_type": "code",
      "source": [
        "import google.generativeai as genai\n",
        "import os"
      ],
      "metadata": {
        "id": "IyKBud2079XG"
      },
      "id": "IyKBud2079XG",
      "execution_count": null,
      "outputs": []
    },
    {
      "cell_type": "code",
      "execution_count": null,
      "id": "713ef574",
      "metadata": {
        "id": "713ef574"
      },
      "outputs": [],
      "source": [
        "import os\n",
        "from google.cloud import aiplatform\n",
        "\n",
        "os.environ['GOOGLE_API_KEY'] = \"GOOGLE API KEY\"\n",
        "genai.configure(api_key=os.environ['GOOGLE_API_KEY'])"
      ]
    },
    {
      "cell_type": "code",
      "source": [
        "def generate_skill_recommendation_prompt(resume_text, pred_job):\n",
        "    prompt = f\"\"\"\n",
        "    Given the following resume, extract the key skills mentioned, and recommend\n",
        "    additional skills that could be valuable based on the person's experience.\n",
        "    Provide the recommendation in the form of a list.\n",
        "\n",
        "    Resume:\n",
        "    {resume_text}\n",
        "\n",
        "    For the job of: {pred_job}\n",
        "\n",
        "    Skills:\n",
        "    \"\"\"\n",
        "    return prompt\n"
      ],
      "metadata": {
        "id": "YFFrr8_u8MkC"
      },
      "id": "YFFrr8_u8MkC",
      "execution_count": null,
      "outputs": []
    },
    {
      "cell_type": "code",
      "source": [
        "def get_skill_recommendation(prompt, job):\n",
        "\n",
        "    prompt = generate_skill_recommendation_prompt(resume_text, job)\n",
        "    model=genai.GenerativeModel(\"gemini-pro\")\n",
        "    response=model.generate_content(prompt)\n",
        "    return response.text"
      ],
      "metadata": {
        "id": "wrpb-FL28R-i"
      },
      "id": "wrpb-FL28R-i",
      "execution_count": null,
      "outputs": []
    },
    {
      "cell_type": "markdown",
      "source": [
        "# User Interface Module"
      ],
      "metadata": {
        "id": "3OvtslpFi6OT"
      },
      "id": "3OvtslpFi6OT"
    },
    {
      "cell_type": "code",
      "source": [
        "# %pip install pdfplumber"
      ],
      "metadata": {
        "id": "8wVc6cg_hVIk"
      },
      "id": "8wVc6cg_hVIk",
      "execution_count": null,
      "outputs": []
    },
    {
      "cell_type": "code",
      "source": [
        "import pdfplumber"
      ],
      "metadata": {
        "id": "6DPSpwtwwWlp"
      },
      "id": "6DPSpwtwwWlp",
      "execution_count": null,
      "outputs": []
    },
    {
      "cell_type": "code",
      "source": [
        "def extract_text_from_pdf(pdf_path):\n",
        "    text = ''\n",
        "    with pdfplumber.open(pdf_path) as pdf:\n",
        "        for page in pdf.pages:\n",
        "            text += page.extract_text()\n",
        "    return text"
      ],
      "metadata": {
        "id": "1Q9c8pGPhp5l"
      },
      "id": "1Q9c8pGPhp5l",
      "execution_count": null,
      "outputs": []
    },
    {
      "source": [
        "from google.colab import files\n",
        "\n",
        "uploaded = files.upload()\n",
        "for filename in uploaded.keys():\n",
        "    print(f'Uploaded file: {filename}')"
      ],
      "cell_type": "code",
      "metadata": {
        "colab": {
          "base_uri": "https://localhost:8080/",
          "height": 91
        },
        "id": "AwnejFlYjTaL",
        "outputId": "6380af97-c878-4c5e-9f52-d9c27bb65630"
      },
      "id": "AwnejFlYjTaL",
      "execution_count": null,
      "outputs": [
        {
          "output_type": "display_data",
          "data": {
            "text/plain": [
              "<IPython.core.display.HTML object>"
            ],
            "text/html": [
              "\n",
              "     <input type=\"file\" id=\"files-dde29d8e-5071-4b0a-9edd-9da572107362\" name=\"files[]\" multiple disabled\n",
              "        style=\"border:none\" />\n",
              "     <output id=\"result-dde29d8e-5071-4b0a-9edd-9da572107362\">\n",
              "      Upload widget is only available when the cell has been executed in the\n",
              "      current browser session. Please rerun this cell to enable.\n",
              "      </output>\n",
              "      <script>// Copyright 2017 Google LLC\n",
              "//\n",
              "// Licensed under the Apache License, Version 2.0 (the \"License\");\n",
              "// you may not use this file except in compliance with the License.\n",
              "// You may obtain a copy of the License at\n",
              "//\n",
              "//      http://www.apache.org/licenses/LICENSE-2.0\n",
              "//\n",
              "// Unless required by applicable law or agreed to in writing, software\n",
              "// distributed under the License is distributed on an \"AS IS\" BASIS,\n",
              "// WITHOUT WARRANTIES OR CONDITIONS OF ANY KIND, either express or implied.\n",
              "// See the License for the specific language governing permissions and\n",
              "// limitations under the License.\n",
              "\n",
              "/**\n",
              " * @fileoverview Helpers for google.colab Python module.\n",
              " */\n",
              "(function(scope) {\n",
              "function span(text, styleAttributes = {}) {\n",
              "  const element = document.createElement('span');\n",
              "  element.textContent = text;\n",
              "  for (const key of Object.keys(styleAttributes)) {\n",
              "    element.style[key] = styleAttributes[key];\n",
              "  }\n",
              "  return element;\n",
              "}\n",
              "\n",
              "// Max number of bytes which will be uploaded at a time.\n",
              "const MAX_PAYLOAD_SIZE = 100 * 1024;\n",
              "\n",
              "function _uploadFiles(inputId, outputId) {\n",
              "  const steps = uploadFilesStep(inputId, outputId);\n",
              "  const outputElement = document.getElementById(outputId);\n",
              "  // Cache steps on the outputElement to make it available for the next call\n",
              "  // to uploadFilesContinue from Python.\n",
              "  outputElement.steps = steps;\n",
              "\n",
              "  return _uploadFilesContinue(outputId);\n",
              "}\n",
              "\n",
              "// This is roughly an async generator (not supported in the browser yet),\n",
              "// where there are multiple asynchronous steps and the Python side is going\n",
              "// to poll for completion of each step.\n",
              "// This uses a Promise to block the python side on completion of each step,\n",
              "// then passes the result of the previous step as the input to the next step.\n",
              "function _uploadFilesContinue(outputId) {\n",
              "  const outputElement = document.getElementById(outputId);\n",
              "  const steps = outputElement.steps;\n",
              "\n",
              "  const next = steps.next(outputElement.lastPromiseValue);\n",
              "  return Promise.resolve(next.value.promise).then((value) => {\n",
              "    // Cache the last promise value to make it available to the next\n",
              "    // step of the generator.\n",
              "    outputElement.lastPromiseValue = value;\n",
              "    return next.value.response;\n",
              "  });\n",
              "}\n",
              "\n",
              "/**\n",
              " * Generator function which is called between each async step of the upload\n",
              " * process.\n",
              " * @param {string} inputId Element ID of the input file picker element.\n",
              " * @param {string} outputId Element ID of the output display.\n",
              " * @return {!Iterable<!Object>} Iterable of next steps.\n",
              " */\n",
              "function* uploadFilesStep(inputId, outputId) {\n",
              "  const inputElement = document.getElementById(inputId);\n",
              "  inputElement.disabled = false;\n",
              "\n",
              "  const outputElement = document.getElementById(outputId);\n",
              "  outputElement.innerHTML = '';\n",
              "\n",
              "  const pickedPromise = new Promise((resolve) => {\n",
              "    inputElement.addEventListener('change', (e) => {\n",
              "      resolve(e.target.files);\n",
              "    });\n",
              "  });\n",
              "\n",
              "  const cancel = document.createElement('button');\n",
              "  inputElement.parentElement.appendChild(cancel);\n",
              "  cancel.textContent = 'Cancel upload';\n",
              "  const cancelPromise = new Promise((resolve) => {\n",
              "    cancel.onclick = () => {\n",
              "      resolve(null);\n",
              "    };\n",
              "  });\n",
              "\n",
              "  // Wait for the user to pick the files.\n",
              "  const files = yield {\n",
              "    promise: Promise.race([pickedPromise, cancelPromise]),\n",
              "    response: {\n",
              "      action: 'starting',\n",
              "    }\n",
              "  };\n",
              "\n",
              "  cancel.remove();\n",
              "\n",
              "  // Disable the input element since further picks are not allowed.\n",
              "  inputElement.disabled = true;\n",
              "\n",
              "  if (!files) {\n",
              "    return {\n",
              "      response: {\n",
              "        action: 'complete',\n",
              "      }\n",
              "    };\n",
              "  }\n",
              "\n",
              "  for (const file of files) {\n",
              "    const li = document.createElement('li');\n",
              "    li.append(span(file.name, {fontWeight: 'bold'}));\n",
              "    li.append(span(\n",
              "        `(${file.type || 'n/a'}) - ${file.size} bytes, ` +\n",
              "        `last modified: ${\n",
              "            file.lastModifiedDate ? file.lastModifiedDate.toLocaleDateString() :\n",
              "                                    'n/a'} - `));\n",
              "    const percent = span('0% done');\n",
              "    li.appendChild(percent);\n",
              "\n",
              "    outputElement.appendChild(li);\n",
              "\n",
              "    const fileDataPromise = new Promise((resolve) => {\n",
              "      const reader = new FileReader();\n",
              "      reader.onload = (e) => {\n",
              "        resolve(e.target.result);\n",
              "      };\n",
              "      reader.readAsArrayBuffer(file);\n",
              "    });\n",
              "    // Wait for the data to be ready.\n",
              "    let fileData = yield {\n",
              "      promise: fileDataPromise,\n",
              "      response: {\n",
              "        action: 'continue',\n",
              "      }\n",
              "    };\n",
              "\n",
              "    // Use a chunked sending to avoid message size limits. See b/62115660.\n",
              "    let position = 0;\n",
              "    do {\n",
              "      const length = Math.min(fileData.byteLength - position, MAX_PAYLOAD_SIZE);\n",
              "      const chunk = new Uint8Array(fileData, position, length);\n",
              "      position += length;\n",
              "\n",
              "      const base64 = btoa(String.fromCharCode.apply(null, chunk));\n",
              "      yield {\n",
              "        response: {\n",
              "          action: 'append',\n",
              "          file: file.name,\n",
              "          data: base64,\n",
              "        },\n",
              "      };\n",
              "\n",
              "      let percentDone = fileData.byteLength === 0 ?\n",
              "          100 :\n",
              "          Math.round((position / fileData.byteLength) * 100);\n",
              "      percent.textContent = `${percentDone}% done`;\n",
              "\n",
              "    } while (position < fileData.byteLength);\n",
              "  }\n",
              "\n",
              "  // All done.\n",
              "  yield {\n",
              "    response: {\n",
              "      action: 'complete',\n",
              "    }\n",
              "  };\n",
              "}\n",
              "\n",
              "scope.google = scope.google || {};\n",
              "scope.google.colab = scope.google.colab || {};\n",
              "scope.google.colab._files = {\n",
              "  _uploadFiles,\n",
              "  _uploadFilesContinue,\n",
              "};\n",
              "})(self);\n",
              "</script> "
            ]
          },
          "metadata": {}
        },
        {
          "output_type": "stream",
          "name": "stdout",
          "text": [
            "Saving designer.pdf to designer (1).pdf\n",
            "Uploaded file: designer (1).pdf\n"
          ]
        }
      ]
    },
    {
      "cell_type": "code",
      "source": [
        "pdf_path = list(uploaded.keys())[0]\n",
        "resume_text = extract_text_from_pdf(pdf_path)\n",
        "print(resume_text)"
      ],
      "metadata": {
        "colab": {
          "base_uri": "https://localhost:8080/"
        },
        "id": "Z2TEV7tSi04M",
        "outputId": "d18a261f-6da3-402d-955d-d1c9ecfe0868"
      },
      "id": "Z2TEV7tSi04M",
      "execution_count": null,
      "outputs": [
        {
          "output_type": "stream",
          "name": "stdout",
          "text": [
            "Objective:\n",
            "A creative and detail-\n",
            "oriented Designer with a passion for visual communication and brand identity seeking\n",
            "opportunities to leverage design skills in a dynamic and collaborative environment.\n",
            "Education:\n",
            "- Bachelor of Fine Arts in Graphic Design, XYZ College, GPA: 3.7/4.0\n",
            "- Diploma in Web Design, ABC Institute, GPA: 3.9/4.0\n",
            "Skills:\n",
            "- Proficient in Adobe Creative Suite (Photoshop, Illustrator, InDesign)\n",
            "- Strong understanding of typography, layout, and color theory\n",
            "- Experience in both print and digital design\n",
            "- Ability to conceptualize and execute design projects from concept to completion\n",
            "- Excellent attention to detail and time management skills\n",
            "Experience:\n",
            "Graphic Designer | XYZ Design Studio\n",
            "- Created visually appealing graphics for various marketing materials, including broc\n",
            "hures, flyers, and social media posts\n",
            "- Collaborated with clients to understand their design needs and deliver creative sol\n",
            "utions that align with their brand identity\n",
            "- Worked closely with the marketing team to ensure consistency in brand messaging acr\n",
            "oss all platforms\n",
            "Freelance Designer\n",
            "- Designed logos, branding materials, and website layouts for small businesses and st\n",
            "artups\n",
            "- Managed multiple projects simultaneously while meeting tight deadlines and maintain\n",
            "ing quality standards\n",
            "- Established and maintained strong client relationships through clear communication\n",
            "and exceptional service\n",
            "Projects:\n",
            "- Rebranding Campaign for XYZ Company: Led a team to redesign the company's logo, web\n",
            "site, and marketing collateral, resulting in a 30% increase in brand recognition\n",
            "- Packaging Design for ABC Product Launch: Developed eye-\n",
            "catching packaging designs for a new product line, contributing to a successful launc\n",
            "h and positive customer feedback\n",
            "Certifications:\n",
            "- Adobe Certified Expert (ACE) in Adobe Illustrator\n",
            "- Responsive Web Design Certification from Udemy\n",
            "Languages:\n",
            "- English (Native)\n",
            "- Spanish (Intermediate)\n"
          ]
        }
      ]
    },
    {
      "cell_type": "code",
      "source": [
        "pred_job = predict_category(resume_text)\n",
        "skill_recommendations = get_skill_recommendation(resume_text, pred_job)\n",
        "print(skill_recommendations)"
      ],
      "metadata": {
        "colab": {
          "base_uri": "https://localhost:8080/",
          "height": 416
        },
        "id": "XcdotURLxZrs",
        "outputId": "fe31c31f-f4e4-4996-bffe-a56a0d9dfbe4"
      },
      "id": "XcdotURLxZrs",
      "execution_count": null,
      "outputs": [
        {
          "output_type": "stream",
          "name": "stdout",
          "text": [
            "**Predicted Category: DESIGNER**\n",
            "\n",
            "**Key Skills:**\n",
            "\n",
            "- Adobe Creative Suite (Photoshop, Illustrator, InDesign)\n",
            "- Typography and layout\n",
            "- Color theory and branding principles\n",
            "- Print and digital design experience\n",
            "- Concept development and execution\n",
            "- Attention to detail and time management\n",
            "- Client collaboration\n",
            "- Communication skills\n",
            "\n",
            "**Recommended Additional Skills:**\n",
            "\n",
            "- User experience (UX) design\n",
            "- User interface (UI) design\n",
            "- Motion graphics\n",
            "- 3D modeling\n",
            "- Content strategy\n",
            "- Digital marketing\n",
            "- Search engine optimization (SEO)\n",
            "- Social media marketing\n"
          ]
        }
      ]
    }
  ],
  "metadata": {
    "kernelspec": {
      "display_name": "Python 3 (ipykernel)",
      "language": "python",
      "name": "python3"
    },
    "language_info": {
      "codemirror_mode": {
        "name": "ipython",
        "version": 3
      },
      "file_extension": ".py",
      "mimetype": "text/x-python",
      "name": "python",
      "nbconvert_exporter": "python",
      "pygments_lexer": "ipython3",
      "version": "3.9.12"
    },
    "colab": {
      "provenance": []
    }
  },
  "nbformat": 4,
  "nbformat_minor": 5
}